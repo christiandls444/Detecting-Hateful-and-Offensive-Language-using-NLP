{
 "cells": [
  {
   "cell_type": "markdown",
   "id": "ad24dbf4",
   "metadata": {},
   "source": [
    "# Feature Engineering"
   ]
  },
  {
   "cell_type": "markdown",
   "id": "2a0f7a16",
   "metadata": {},
   "source": [
    "<b>Load Data</b>"
   ]
  },
  {
   "cell_type": "code",
   "execution_count": 1,
   "id": "2946abae",
   "metadata": {},
   "outputs": [
    {
     "data": {
      "text/html": [
       "<div>\n",
       "<style scoped>\n",
       "    .dataframe tbody tr th:only-of-type {\n",
       "        vertical-align: middle;\n",
       "    }\n",
       "\n",
       "    .dataframe tbody tr th {\n",
       "        vertical-align: top;\n",
       "    }\n",
       "\n",
       "    .dataframe thead th {\n",
       "        text-align: right;\n",
       "    }\n",
       "</style>\n",
       "<table border=\"1\" class=\"dataframe\">\n",
       "  <thead>\n",
       "    <tr style=\"text-align: right;\">\n",
       "      <th></th>\n",
       "      <th>corpus_name</th>\n",
       "      <th>raw_sentence</th>\n",
       "      <th>clean_sentence_training</th>\n",
       "      <th>label</th>\n",
       "      <th>clean_sentence_EDA</th>\n",
       "    </tr>\n",
       "  </thead>\n",
       "  <tbody>\n",
       "    <tr>\n",
       "      <th>18846</th>\n",
       "      <td>measuring hate speech</td>\n",
       "      <td>Watch out for their gay roller skating prostitutes tho</td>\n",
       "      <td>Watch roller skating prostitute</td>\n",
       "      <td>non-risky</td>\n",
       "      <td>Watch roller skating prostitute</td>\n",
       "    </tr>\n",
       "    <tr>\n",
       "      <th>12682</th>\n",
       "      <td>measuring hate speech</td>\n",
       "      <td>Men are the easiest little games to play. I will always win. I'm too skilled at manipulation. 😉 #findom #paypig #domme #findomme #brat #finsub URL</td>\n",
       "      <td>easiest little game play always skilled manipulation findom paypig domme findomme brat finsub</td>\n",
       "      <td>potentially-risky</td>\n",
       "      <td>easiest little game play always skilled manipulation findom paypig domme findomme brat finsub</td>\n",
       "    </tr>\n",
       "    <tr>\n",
       "      <th>69412</th>\n",
       "      <td>twitter sentiment analysis</td>\n",
       "      <td>@user clips from last night looked and sounded great!  so looking forward to the show in birmingham on saturday!</td>\n",
       "      <td>clip last night looked sounded great looking forward show birmingham saturday</td>\n",
       "      <td>non-risky</td>\n",
       "      <td>clip last night looked sounded great looking forward show birmingham saturday</td>\n",
       "    </tr>\n",
       "    <tr>\n",
       "      <th>42155</th>\n",
       "      <td>hate speech and offensive language</td>\n",
       "      <td>@BigDaddySniper you far asf too nigguh</td>\n",
       "      <td>nigguh</td>\n",
       "      <td>non-risky</td>\n",
       "      <td>nigguh</td>\n",
       "    </tr>\n",
       "    <tr>\n",
       "      <th>51662</th>\n",
       "      <td>hate speech and offensive language</td>\n",
       "      <td>Josh you're a hoe &amp;#128514;&amp;#128514;&amp;#128514;&amp;#128557;&amp;#128557;&amp;#128557;</td>\n",
       "      <td>Josh</td>\n",
       "      <td>non-risky</td>\n",
       "      <td>Josh</td>\n",
       "    </tr>\n",
       "  </tbody>\n",
       "</table>\n",
       "</div>"
      ],
      "text/plain": [
       "                              corpus_name  \\\n",
       "18846               measuring hate speech   \n",
       "12682               measuring hate speech   \n",
       "69412          twitter sentiment analysis   \n",
       "42155  hate speech and offensive language   \n",
       "51662  hate speech and offensive language   \n",
       "\n",
       "                                                                                                                                             raw_sentence  \\\n",
       "18846                                                                                              Watch out for their gay roller skating prostitutes tho   \n",
       "12682  Men are the easiest little games to play. I will always win. I'm too skilled at manipulation. 😉 #findom #paypig #domme #findomme #brat #finsub URL   \n",
       "69412                                  @user clips from last night looked and sounded great!  so looking forward to the show in birmingham on saturday!     \n",
       "42155                                                                                                              @BigDaddySniper you far asf too nigguh   \n",
       "51662                                                                            Josh you're a hoe &#128514;&#128514;&#128514;&#128557;&#128557;&#128557;   \n",
       "\n",
       "                                                                             clean_sentence_training  \\\n",
       "18846                                                                Watch roller skating prostitute   \n",
       "12682  easiest little game play always skilled manipulation findom paypig domme findomme brat finsub   \n",
       "69412                  clip last night looked sounded great looking forward show birmingham saturday   \n",
       "42155                                                                                         nigguh   \n",
       "51662                                                                                           Josh   \n",
       "\n",
       "                   label  \\\n",
       "18846          non-risky   \n",
       "12682  potentially-risky   \n",
       "69412          non-risky   \n",
       "42155          non-risky   \n",
       "51662          non-risky   \n",
       "\n",
       "                                                                                  clean_sentence_EDA  \n",
       "18846                                                                Watch roller skating prostitute  \n",
       "12682  easiest little game play always skilled manipulation findom paypig domme findomme brat finsub  \n",
       "69412                  clip last night looked sounded great looking forward show birmingham saturday  \n",
       "42155                                                                                         nigguh  \n",
       "51662                                                                                           Josh  "
      ]
     },
     "execution_count": 1,
     "metadata": {},
     "output_type": "execute_result"
    }
   ],
   "source": [
    "import pandas as pd\n",
    "pd.set_option('display.max_colwidth', None)\n",
    "\n",
    "df = pd.read_csv(\"../datasets/data_pre_processing.csv\")\n",
    "df.sample(5)"
   ]
  },
  {
   "cell_type": "code",
   "execution_count": 2,
   "id": "87a2e60e",
   "metadata": {},
   "outputs": [],
   "source": [
    "#WIP"
   ]
  }
 ],
 "metadata": {
  "kernelspec": {
   "display_name": "Python 3 (ipykernel)",
   "language": "python",
   "name": "python3"
  },
  "language_info": {
   "codemirror_mode": {
    "name": "ipython",
    "version": 3
   },
   "file_extension": ".py",
   "mimetype": "text/x-python",
   "name": "python",
   "nbconvert_exporter": "python",
   "pygments_lexer": "ipython3",
   "version": "3.9.13"
  }
 },
 "nbformat": 4,
 "nbformat_minor": 5
}
